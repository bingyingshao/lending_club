{
 "cells": [
  {
   "cell_type": "code",
   "execution_count": 4,
   "metadata": {
    "collapsed": true
   },
   "outputs": [],
   "source": [
    "import dask.dataframe as dd\n",
    "import pandas as pd\n",
    "import ray.dataframe as rd\n",
    "import numpy as np\n",
    "import os\n",
    "import matplotlib.pyplot as plt\n",
    "import seaborn as sns\n",
    "%matplotlib inline"
   ]
  },
  {
   "cell_type": "code",
   "execution_count": 3,
   "metadata": {},
   "outputs": [],
   "source": [
    "os.chdir(\"/Users/bshao/Desktop/lending club\")"
   ]
  },
  {
   "cell_type": "raw",
   "metadata": {},
   "source": [
    "loan_15 = rd.dataframe.pd.read_csv(\"LoanStats3d.csv\",sep=\",\",encoding=\"latin-1\")"
   ]
  },
  {
   "cell_type": "code",
   "execution_count": 14,
   "metadata": {},
   "outputs": [
    {
     "name": "stderr",
     "output_type": "stream",
     "text": [
      "/anaconda3/lib/python3.6/site-packages/IPython/core/interactiveshell.py:2698: DtypeWarning: Columns (17,53) have mixed types. Specify dtype option on import or set low_memory=False.\n",
      "  interactivity=interactivity, compiler=compiler, result=result)\n"
     ]
    }
   ],
   "source": [
    "loan_15 = pd.read_csv(\"LoanStats3d.csv\",sep=\",\",encoding=\"latin-1\")"
   ]
  },
  {
   "cell_type": "code",
   "execution_count": 15,
   "metadata": {},
   "outputs": [
    {
     "name": "stdout",
     "output_type": "stream",
     "text": [
      "<class 'pandas.core.frame.DataFrame'>\n",
      "RangeIndex: 421095 entries, 0 to 421094\n",
      "Columns: 143 entries, loan_amnt to settlement_term\n",
      "dtypes: float64(66), int64(40), object(37)\n",
      "memory usage: 459.4+ MB\n"
     ]
    }
   ],
   "source": [
    "loan_15.info()"
   ]
  },
  {
   "cell_type": "code",
   "execution_count": 12,
   "metadata": {},
   "outputs": [
    {
     "data": {
      "text/html": [
       "<div>\n",
       "<style>\n",
       "    .dataframe thead tr:only-child th {\n",
       "        text-align: right;\n",
       "    }\n",
       "\n",
       "    .dataframe thead th {\n",
       "        text-align: left;\n",
       "    }\n",
       "\n",
       "    .dataframe tbody tr th {\n",
       "        vertical-align: top;\n",
       "    }\n",
       "</style>\n",
       "<table border=\"1\" class=\"dataframe\">\n",
       "  <thead>\n",
       "    <tr style=\"text-align: right;\">\n",
       "      <th></th>\n",
       "      <th>loan_amnt</th>\n",
       "      <th>funded_amnt</th>\n",
       "      <th>funded_amnt_inv</th>\n",
       "      <th>term</th>\n",
       "      <th>int_rate</th>\n",
       "      <th>installment</th>\n",
       "      <th>grade</th>\n",
       "      <th>sub_grade</th>\n",
       "      <th>emp_title</th>\n",
       "      <th>emp_length</th>\n",
       "      <th>...</th>\n",
       "      <th>hardship_payoff_balance_amount</th>\n",
       "      <th>hardship_last_payment_amount</th>\n",
       "      <th>disbursement_method</th>\n",
       "      <th>debt_settlement_flag</th>\n",
       "      <th>debt_settlement_flag_date</th>\n",
       "      <th>settlement_status</th>\n",
       "      <th>settlement_date</th>\n",
       "      <th>settlement_amount</th>\n",
       "      <th>settlement_percentage</th>\n",
       "      <th>settlement_term</th>\n",
       "    </tr>\n",
       "  </thead>\n",
       "  <tbody>\n",
       "    <tr>\n",
       "      <th>0</th>\n",
       "      <td>9000</td>\n",
       "      <td>9000</td>\n",
       "      <td>9000.0</td>\n",
       "      <td>36 months</td>\n",
       "      <td>8.49%</td>\n",
       "      <td>284.07</td>\n",
       "      <td>B</td>\n",
       "      <td>B1</td>\n",
       "      <td>Office Manager</td>\n",
       "      <td>8 years</td>\n",
       "      <td>...</td>\n",
       "      <td>NaN</td>\n",
       "      <td>NaN</td>\n",
       "      <td>Cash</td>\n",
       "      <td>N</td>\n",
       "      <td>NaN</td>\n",
       "      <td>NaN</td>\n",
       "      <td>NaN</td>\n",
       "      <td>NaN</td>\n",
       "      <td>NaN</td>\n",
       "      <td>NaN</td>\n",
       "    </tr>\n",
       "    <tr>\n",
       "      <th>1</th>\n",
       "      <td>17475</td>\n",
       "      <td>17475</td>\n",
       "      <td>17475.0</td>\n",
       "      <td>36 months</td>\n",
       "      <td>13.99%</td>\n",
       "      <td>597.17</td>\n",
       "      <td>C</td>\n",
       "      <td>C4</td>\n",
       "      <td>Software Testing Analyst</td>\n",
       "      <td>2 years</td>\n",
       "      <td>...</td>\n",
       "      <td>NaN</td>\n",
       "      <td>NaN</td>\n",
       "      <td>Cash</td>\n",
       "      <td>Y</td>\n",
       "      <td>Jan-18</td>\n",
       "      <td>ACTIVE</td>\n",
       "      <td>Jan-18</td>\n",
       "      <td>4382.0</td>\n",
       "      <td>44.99</td>\n",
       "      <td>12.0</td>\n",
       "    </tr>\n",
       "    <tr>\n",
       "      <th>2</th>\n",
       "      <td>21000</td>\n",
       "      <td>21000</td>\n",
       "      <td>21000.0</td>\n",
       "      <td>60 months</td>\n",
       "      <td>13.99%</td>\n",
       "      <td>488.53</td>\n",
       "      <td>C</td>\n",
       "      <td>C4</td>\n",
       "      <td>Resident physician</td>\n",
       "      <td>&lt; 1 year</td>\n",
       "      <td>...</td>\n",
       "      <td>NaN</td>\n",
       "      <td>NaN</td>\n",
       "      <td>Cash</td>\n",
       "      <td>N</td>\n",
       "      <td>NaN</td>\n",
       "      <td>NaN</td>\n",
       "      <td>NaN</td>\n",
       "      <td>NaN</td>\n",
       "      <td>NaN</td>\n",
       "      <td>NaN</td>\n",
       "    </tr>\n",
       "    <tr>\n",
       "      <th>3</th>\n",
       "      <td>7200</td>\n",
       "      <td>7200</td>\n",
       "      <td>7200.0</td>\n",
       "      <td>36 months</td>\n",
       "      <td>11.48%</td>\n",
       "      <td>237.36</td>\n",
       "      <td>B</td>\n",
       "      <td>B5</td>\n",
       "      <td>Legal Administrative Assistant</td>\n",
       "      <td>10+ years</td>\n",
       "      <td>...</td>\n",
       "      <td>NaN</td>\n",
       "      <td>NaN</td>\n",
       "      <td>Cash</td>\n",
       "      <td>N</td>\n",
       "      <td>NaN</td>\n",
       "      <td>NaN</td>\n",
       "      <td>NaN</td>\n",
       "      <td>NaN</td>\n",
       "      <td>NaN</td>\n",
       "      <td>NaN</td>\n",
       "    </tr>\n",
       "    <tr>\n",
       "      <th>4</th>\n",
       "      <td>27500</td>\n",
       "      <td>27500</td>\n",
       "      <td>27500.0</td>\n",
       "      <td>60 months</td>\n",
       "      <td>14.85%</td>\n",
       "      <td>652.06</td>\n",
       "      <td>C</td>\n",
       "      <td>C5</td>\n",
       "      <td>Manager</td>\n",
       "      <td>10+ years</td>\n",
       "      <td>...</td>\n",
       "      <td>NaN</td>\n",
       "      <td>NaN</td>\n",
       "      <td>Cash</td>\n",
       "      <td>N</td>\n",
       "      <td>NaN</td>\n",
       "      <td>NaN</td>\n",
       "      <td>NaN</td>\n",
       "      <td>NaN</td>\n",
       "      <td>NaN</td>\n",
       "      <td>NaN</td>\n",
       "    </tr>\n",
       "    <tr>\n",
       "      <th>5</th>\n",
       "      <td>7000</td>\n",
       "      <td>7000</td>\n",
       "      <td>7000.0</td>\n",
       "      <td>36 months</td>\n",
       "      <td>7.49%</td>\n",
       "      <td>217.72</td>\n",
       "      <td>A</td>\n",
       "      <td>A4</td>\n",
       "      <td>Carrier</td>\n",
       "      <td>10+ years</td>\n",
       "      <td>...</td>\n",
       "      <td>NaN</td>\n",
       "      <td>NaN</td>\n",
       "      <td>Cash</td>\n",
       "      <td>N</td>\n",
       "      <td>NaN</td>\n",
       "      <td>NaN</td>\n",
       "      <td>NaN</td>\n",
       "      <td>NaN</td>\n",
       "      <td>NaN</td>\n",
       "      <td>NaN</td>\n",
       "    </tr>\n",
       "    <tr>\n",
       "      <th>6</th>\n",
       "      <td>16800</td>\n",
       "      <td>16800</td>\n",
       "      <td>16800.0</td>\n",
       "      <td>60 months</td>\n",
       "      <td>12.88%</td>\n",
       "      <td>381.23</td>\n",
       "      <td>C</td>\n",
       "      <td>C2</td>\n",
       "      <td>CEO</td>\n",
       "      <td>10+ years</td>\n",
       "      <td>...</td>\n",
       "      <td>NaN</td>\n",
       "      <td>NaN</td>\n",
       "      <td>Cash</td>\n",
       "      <td>N</td>\n",
       "      <td>NaN</td>\n",
       "      <td>NaN</td>\n",
       "      <td>NaN</td>\n",
       "      <td>NaN</td>\n",
       "      <td>NaN</td>\n",
       "      <td>NaN</td>\n",
       "    </tr>\n",
       "    <tr>\n",
       "      <th>7</th>\n",
       "      <td>17925</td>\n",
       "      <td>17925</td>\n",
       "      <td>17925.0</td>\n",
       "      <td>60 months</td>\n",
       "      <td>17.27%</td>\n",
       "      <td>448.09</td>\n",
       "      <td>D</td>\n",
       "      <td>D3</td>\n",
       "      <td>IT Help Desk Support</td>\n",
       "      <td>10+ years</td>\n",
       "      <td>...</td>\n",
       "      <td>NaN</td>\n",
       "      <td>NaN</td>\n",
       "      <td>Cash</td>\n",
       "      <td>N</td>\n",
       "      <td>NaN</td>\n",
       "      <td>NaN</td>\n",
       "      <td>NaN</td>\n",
       "      <td>NaN</td>\n",
       "      <td>NaN</td>\n",
       "      <td>NaN</td>\n",
       "    </tr>\n",
       "    <tr>\n",
       "      <th>8</th>\n",
       "      <td>29900</td>\n",
       "      <td>29900</td>\n",
       "      <td>29900.0</td>\n",
       "      <td>60 months</td>\n",
       "      <td>12.88%</td>\n",
       "      <td>678.49</td>\n",
       "      <td>C</td>\n",
       "      <td>C2</td>\n",
       "      <td>Corporate Insurance</td>\n",
       "      <td>10+ years</td>\n",
       "      <td>...</td>\n",
       "      <td>NaN</td>\n",
       "      <td>NaN</td>\n",
       "      <td>Cash</td>\n",
       "      <td>N</td>\n",
       "      <td>NaN</td>\n",
       "      <td>NaN</td>\n",
       "      <td>NaN</td>\n",
       "      <td>NaN</td>\n",
       "      <td>NaN</td>\n",
       "      <td>NaN</td>\n",
       "    </tr>\n",
       "    <tr>\n",
       "      <th>9</th>\n",
       "      <td>28000</td>\n",
       "      <td>28000</td>\n",
       "      <td>28000.0</td>\n",
       "      <td>60 months</td>\n",
       "      <td>14.85%</td>\n",
       "      <td>663.92</td>\n",
       "      <td>C</td>\n",
       "      <td>C5</td>\n",
       "      <td>Division General Manager</td>\n",
       "      <td>2 years</td>\n",
       "      <td>...</td>\n",
       "      <td>NaN</td>\n",
       "      <td>NaN</td>\n",
       "      <td>Cash</td>\n",
       "      <td>N</td>\n",
       "      <td>NaN</td>\n",
       "      <td>NaN</td>\n",
       "      <td>NaN</td>\n",
       "      <td>NaN</td>\n",
       "      <td>NaN</td>\n",
       "      <td>NaN</td>\n",
       "    </tr>\n",
       "  </tbody>\n",
       "</table>\n",
       "<p>10 rows × 143 columns</p>\n",
       "</div>"
      ],
      "text/plain": [
       "   loan_amnt  funded_amnt  funded_amnt_inv        term int_rate  installment  \\\n",
       "0       9000         9000           9000.0   36 months    8.49%       284.07   \n",
       "1      17475        17475          17475.0   36 months   13.99%       597.17   \n",
       "2      21000        21000          21000.0   60 months   13.99%       488.53   \n",
       "3       7200         7200           7200.0   36 months   11.48%       237.36   \n",
       "4      27500        27500          27500.0   60 months   14.85%       652.06   \n",
       "5       7000         7000           7000.0   36 months    7.49%       217.72   \n",
       "6      16800        16800          16800.0   60 months   12.88%       381.23   \n",
       "7      17925        17925          17925.0   60 months   17.27%       448.09   \n",
       "8      29900        29900          29900.0   60 months   12.88%       678.49   \n",
       "9      28000        28000          28000.0   60 months   14.85%       663.92   \n",
       "\n",
       "  grade sub_grade                       emp_title emp_length       ...        \\\n",
       "0     B        B1                  Office Manager    8 years       ...         \n",
       "1     C        C4        Software Testing Analyst    2 years       ...         \n",
       "2     C        C4              Resident physician   < 1 year       ...         \n",
       "3     B        B5  Legal Administrative Assistant  10+ years       ...         \n",
       "4     C        C5                         Manager  10+ years       ...         \n",
       "5     A        A4                         Carrier  10+ years       ...         \n",
       "6     C        C2                             CEO  10+ years       ...         \n",
       "7     D        D3           IT Help Desk Support   10+ years       ...         \n",
       "8     C        C2             Corporate Insurance  10+ years       ...         \n",
       "9     C        C5        Division General Manager    2 years       ...         \n",
       "\n",
       "  hardship_payoff_balance_amount  hardship_last_payment_amount  \\\n",
       "0                            NaN                           NaN   \n",
       "1                            NaN                           NaN   \n",
       "2                            NaN                           NaN   \n",
       "3                            NaN                           NaN   \n",
       "4                            NaN                           NaN   \n",
       "5                            NaN                           NaN   \n",
       "6                            NaN                           NaN   \n",
       "7                            NaN                           NaN   \n",
       "8                            NaN                           NaN   \n",
       "9                            NaN                           NaN   \n",
       "\n",
       "  disbursement_method debt_settlement_flag debt_settlement_flag_date  \\\n",
       "0                Cash                    N                       NaN   \n",
       "1                Cash                    Y                    Jan-18   \n",
       "2                Cash                    N                       NaN   \n",
       "3                Cash                    N                       NaN   \n",
       "4                Cash                    N                       NaN   \n",
       "5                Cash                    N                       NaN   \n",
       "6                Cash                    N                       NaN   \n",
       "7                Cash                    N                       NaN   \n",
       "8                Cash                    N                       NaN   \n",
       "9                Cash                    N                       NaN   \n",
       "\n",
       "  settlement_status  settlement_date settlement_amount settlement_percentage  \\\n",
       "0               NaN              NaN               NaN                   NaN   \n",
       "1            ACTIVE           Jan-18            4382.0                 44.99   \n",
       "2               NaN              NaN               NaN                   NaN   \n",
       "3               NaN              NaN               NaN                   NaN   \n",
       "4               NaN              NaN               NaN                   NaN   \n",
       "5               NaN              NaN               NaN                   NaN   \n",
       "6               NaN              NaN               NaN                   NaN   \n",
       "7               NaN              NaN               NaN                   NaN   \n",
       "8               NaN              NaN               NaN                   NaN   \n",
       "9               NaN              NaN               NaN                   NaN   \n",
       "\n",
       "  settlement_term  \n",
       "0             NaN  \n",
       "1            12.0  \n",
       "2             NaN  \n",
       "3             NaN  \n",
       "4             NaN  \n",
       "5             NaN  \n",
       "6             NaN  \n",
       "7             NaN  \n",
       "8             NaN  \n",
       "9             NaN  \n",
       "\n",
       "[10 rows x 143 columns]"
      ]
     },
     "execution_count": 12,
     "metadata": {},
     "output_type": "execute_result"
    }
   ],
   "source": [
    "loan_15.head(10)"
   ]
  },
  {
   "cell_type": "code",
   "execution_count": 16,
   "metadata": {},
   "outputs": [
    {
     "data": {
      "text/plain": [
       "Fully Paid            183593\n",
       "Current               165977\n",
       "Charged Off            62042\n",
       "Late (31-120 days)      5485\n",
       "In Grace Period         2943\n",
       "Late (16-30 days)       1033\n",
       "Default                   22\n",
       "Name: loan_status, dtype: int64"
      ]
     },
     "execution_count": 16,
     "metadata": {},
     "output_type": "execute_result"
    }
   ],
   "source": [
    "loan_15.loan_status.value_counts()"
   ]
  },
  {
   "cell_type": "code",
   "execution_count": 27,
   "metadata": {
    "collapsed": true
   },
   "outputs": [],
   "source": [
    "ddf = dd.read_csv(\"LoanStats3d.csv\",encoding=\"latin-1\",dtype=\"str\")"
   ]
  },
  {
   "cell_type": "code",
   "execution_count": 28,
   "metadata": {},
   "outputs": [
    {
     "data": {
      "text/plain": [
       "Fully Paid            183593\n",
       "Current               165977\n",
       "Charged Off            62042\n",
       "Late (31-120 days)      5485\n",
       "In Grace Period         2943\n",
       "Late (16-30 days)       1033\n",
       "Default                   22\n",
       "Name: loan_status, dtype: int64"
      ]
     },
     "execution_count": 28,
     "metadata": {},
     "output_type": "execute_result"
    }
   ],
   "source": [
    "ddf.loan_status.value_counts().compute()"
   ]
  },
  {
   "cell_type": "code",
   "execution_count": 29,
   "metadata": {},
   "outputs": [
    {
     "data": {
      "text/plain": [
       "<matplotlib.axes._subplots.AxesSubplot at 0x14afae358>"
      ]
     },
     "execution_count": 29,
     "metadata": {},
     "output_type": "execute_result"
    },
    {
     "data": {
      "image/png": "[encoded data removed]",
      "text/plain": [
       "<matplotlib.figure.Figure at 0x14afae2e8>"
      ]
     },
     "metadata": {},
     "output_type": "display_data"
    }
   ],
   "source": [
    "plt.figure(figsize=(25,5)) \n",
    "sns.set_context(font_scale=10)   \n",
    "sns.heatmap(loan_15.isnull(),yticklabels=False,cbar=False,cmap='viridis',xticklabels=list(range(145)))"
   ]
  },
  {
   "cell_type": "code",
   "execution_count": 53,
   "metadata": {},
   "outputs": [],
   "source": [
    "missing = pd.DataFrame(loan_15.isnull().sum()/len(loan_15),columns=['%missing_value']).sort_values(by='%missing_value',ascending=False)"
   ]
  },
  {
   "cell_type": "code",
   "execution_count": 59,
   "metadata": {},
   "outputs": [
    {
     "data": {
      "text/plain": [
       "Index(['mths_since_last_delinq', 'mths_since_recent_inq', 'emp_title',\n",
       "       'num_tl_120dpd_2m', 'mo_sin_old_il_acct', 'percent_bc_gt_75', 'bc_util',\n",
       "       'bc_open_to_buy', 'mths_since_recent_bc', 'last_pymnt_d', 'revol_util',\n",
       "       'title', 'last_credit_pull_d', 'dti', 'num_rev_accts', 'revol_bal',\n",
       "       'pub_rec', 'open_acc', 'total_acc', 'initial_list_status',\n",
       "       'inq_last_6mths', 'earliest_cr_line', 'total_il_high_credit_limit',\n",
       "       'total_bc_limit', 'total_bal_ex_mort', 'tot_hi_cred_lim',\n",
       "       'application_type', 'delinq_2yrs', 'emp_length', 'funded_amnt_inv',\n",
       "       'term', 'int_rate', 'installment', 'grade', 'debt_settlement_flag',\n",
       "       'disbursement_method', 'sub_grade', 'home_ownership', 'hardship_flag',\n",
       "       'annual_inc', 'verification_status', 'issue_d', 'loan_status',\n",
       "       'pymnt_plan', 'purpose', 'tax_liens', 'addr_state', 'zip_code',\n",
       "       'num_sats', 'pub_rec_bankruptcies', 'total_rec_int', 'funded_amnt',\n",
       "       'out_prncp', 'out_prncp_inv', 'total_rev_hi_lim', 'total_pymnt',\n",
       "       'total_pymnt_inv', 'total_rec_prncp', 'total_rec_late_fee',\n",
       "       'avg_cur_bal', 'recoveries', 'collection_recovery_fee',\n",
       "       'last_pymnt_amnt', 'tot_cur_bal', 'tot_coll_amt', 'acc_now_delinq',\n",
       "       'collections_12_mths_ex_med', 'acc_open_past_24mths',\n",
       "       'chargeoff_within_12_mths', 'pct_tl_nvr_dlq', 'num_bc_tl',\n",
       "       'num_tl_op_past_12m', 'num_tl_90g_dpd_24m', 'num_tl_30dpd',\n",
       "       'policy_code', 'num_rev_tl_bal_gt_0', 'num_op_rev_tl', 'num_il_tl',\n",
       "       'num_bc_sats', 'delinq_amnt', 'num_actv_rev_tl', 'num_actv_bc_tl',\n",
       "       'num_accts_ever_120_pd', 'mort_acc', 'mo_sin_rcnt_tl',\n",
       "       'mo_sin_rcnt_rev_tl_op', 'mo_sin_old_rev_tl_op', 'loan_amnt'],\n",
       "      dtype='object')"
      ]
     },
     "execution_count": 59,
     "metadata": {},
     "output_type": "execute_result"
    }
   ],
   "source": [
    "missing[missing['%missing_value']<0.5].index"
   ]
  },
  {
   "cell_type": "code",
   "execution_count": 36,
   "metadata": {},
   "outputs": [
    {
     "data": {
      "text/plain": [
       "['emp_title',\n",
       " 'desc',\n",
       " 'mths_since_last_delinq',\n",
       " 'mths_since_last_record',\n",
       " 'next_pymnt_d',\n",
       " 'mths_since_last_major_derog',\n",
       " 'annual_inc_joint',\n",
       " 'dti_joint',\n",
       " 'verification_status_joint',\n",
       " 'tot_coll_amt',\n",
       " 'tot_cur_bal',\n",
       " 'open_acc_6m',\n",
       " 'open_il_6m',\n",
       " 'open_il_12m',\n",
       " 'open_il_24m',\n",
       " 'mths_since_rcnt_il',\n",
       " 'total_bal_il',\n",
       " 'il_util',\n",
       " 'open_rv_12m',\n",
       " 'open_rv_24m',\n",
       " 'max_bal_bc',\n",
       " 'all_util',\n",
       " 'total_rev_hi_lim',\n",
       " 'inq_fi',\n",
       " 'total_cu_tl',\n",
       " 'inq_last_12m']"
      ]
     },
     "execution_count": 36,
     "metadata": {},
     "output_type": "execute_result"
    }
   ],
   "source": [
    "rdf.isnull().sum()[rdf.isnull().sum()>30000].index.tolist()"
   ]
  },
  {
   "cell_type": "code",
   "execution_count": null,
   "metadata": {
    "collapsed": true
   },
   "outputs": [],
   "source": []
  }
 ],
 "metadata": {
  "kernelspec": {
   "display_name": "Python 3",
   "language": "python",
   "name": "python3"
  },
  "language_info": {
   "codemirror_mode": {
    "name": "ipython",
    "version": 3
   },
   "file_extension": ".py",
   "mimetype": "text/x-python",
   "name": "python",
   "nbconvert_exporter": "python",
   "pygments_lexer": "ipython3",
   "version": "3.6.3"
  }
 },
 "nbformat": 4,
 "nbformat_minor": 2
}
